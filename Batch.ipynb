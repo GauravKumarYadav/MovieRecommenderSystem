{
 "cells": [
  {
   "cell_type": "code",
   "execution_count": 19,
   "id": "051b87ff",
   "metadata": {},
   "outputs": [],
   "source": [
    "from pydrive.drive import GoogleDrive\n",
    "from pydrive.auth import GoogleAuth\n",
    "import os"
   ]
  },
  {
   "cell_type": "code",
   "execution_count": 47,
   "id": "a7328ec1",
   "metadata": {},
   "outputs": [],
   "source": [
    "gauth = GoogleAuth()\n",
    "gauth.LoadCredentialsFile(\"mycreds.txt\")\n",
    "if gauth.credentials is None:\n",
    "    # Authenticate if they're not there\n",
    "    gauth.LocalWebserverAuth()\n",
    "elif gauth.access_token_expired:\n",
    "    # Refresh them if expired\n",
    "    gauth.Refresh()\n",
    "else:\n",
    "    # Initialize the saved creds\n",
    "    gauth.Authorize()\n",
    "# Save the current credentials to a file\n",
    "gauth.SaveCredentialsFile(\"mycreds.txt\")   \n",
    "drive = GoogleDrive(gauth)\n"
   ]
  },
  {
   "cell_type": "code",
   "execution_count": 42,
   "id": "a2f554bc",
   "metadata": {
    "scrolled": true
   },
   "outputs": [
    {
     "name": "stdout",
     "output_type": "stream",
     "text": [
      "Title: DataAssets, ID: 1sz0napqJkuZbzbXfBP74arJTyPZs5mOb\n",
      "Title: Untitled document, ID: 19AyNPil9FcHTE8HVSWu1_ofgb_wbvws8e57itQk5IU8\n",
      "Title: Resumes, ID: 1k8F_r1hPFQviVhPvAYVQD8SUjEGAYQmi\n",
      "Title: BT17CSE025-Gaurav Kumar Yadav.pdf, ID: 1DjmWWQhkZM-X_8nBiH2P2Dpjczo-2jac\n",
      "Title: Copy of DIANTHA - Resume Template, ID: 17kTQeaNt6vhXN9yk6TSLPwcflbLfKMxmCgMw-D9UunE\n",
      "Title: Untitled spreadsheet, ID: 1if-EJ31W-mAuFMB6Wl3W2dI3EpGp2X0hYQlFSsWUHS0\n",
      "Title: 110106921412_ePRANWelComeKit.pdf, ID: 1t3xTf5yPFS-SbiWzIvxuPSOr_xx6GTzx\n",
      "Title: Stat Test.mp4, ID: 12dXRUBjzcejRIjOl0SDTG-ktBejVthwU\n",
      "Title: Basic statistical tools in research & data analysis final.pptx, ID: 1JevHyTl-bNENuUc8rJd3YGk8KoIjpq4V\n",
      "Title: Learning Log Template: Consider how data analysts approach tasks, ID: 1Qi5wyvfdwdxWnbYJlj1wRHnlzPoSXGIDFGoMctg-JMY\n",
      "Title: Learning Log Template: Think about data in daily life, ID: 12Gd_oVLpBfKyNtJHfkKRaFW-lTt1RF36OwNvK7_J8-w\n",
      "Title: college id.pdf, ID: 1iGE89_EBfjg0s1Tkv0yk6fAMMBlO7hSB\n",
      "Title: hackathon, ID: 1m3gixwx-ckN0tQeSc2Bh4EQsXtIMjOBW\n",
      "Title: C_V_Format_B.Tech_, ID: 1KM1HGBBdtbUjyyrqlPDLbohZwh_vfOoEqsn2JxtgQkI\n",
      "Title: DSC06253.jpg, ID: 1NVYsXPq_wtdei-4iPw9-nSMh4qS7IM4n\n",
      "Title: aadhar card.pdf, ID: 1yYxv5iwmzHWQ8LxHtkaqLwW1NrIZcNdv\n",
      "Title: Lappy Maker FlowChart, ID: 1Mn61TbXFrbgS6oUOdnSFCQ6eWtuwIZJiwjyQ7nJVQcM\n",
      "Title: zny-wsha-eoh – 4 May 2021, ID: 1dhCfH3Y_Y0hzmH7QwX22pnee_wUFPyNwmxJ498vobVE\n",
      "Title: pdfs, ID: 1A5eb0UcbI0F9bRqzr5ziGbFtmFs3bk0p\n",
      "Title: BT17CSE025_PA.pdf, ID: 1CXd6ZKZvSUX_qgzj7tUymUBZDj9xlXII\n",
      "Title: BT17CSE025_PSYCHOLOGY.pdf, ID: 1kYZgmecX5WpjXN2bBEvJc4G13Q5EI8OV\n",
      "Title: BT17CSE025_PSYCHOLOGY.pdf, ID: 1x8Kc4ndk8ipUUU_5Vq_lOpJNAL3Lijuo\n",
      "Title: HitchHiker Phase 1 Eval 1, ID: 1iqAy80_w7MQszOd-gqTSEqELe6DsSdvyqSXPayVwDiU\n",
      "Title: dmdw n.pdf, ID: 1VUvhOZDp9sUtSJGzl7jRVbFStcZc6ync\n",
      "Title: Untitled document, ID: 1VmwCyQGr1gvV-6-x-qUxv10l1Fnb_2WghHdaV_xibs8\n",
      "Title: Untitled presentation, ID: 1zbNnhVnvF8KNlBrplLvLw6jVLoTxm0DAdJJO8exmIH4\n",
      "Title: work, ID: 1uvFwla6n_cnxlFj6W0VSVNq2xvqVK1Uy\n",
      "Title: DMDW REPORT-02.pdf, ID: 1wMYqwY-VZJV5AzJ7zatzAyVXmbjwfHFx\n",
      "Title: 25_Gaurav.jpeg, ID: 12Z2zVJbEsF5YGr455utsnOIA6pKNLIWZ\n",
      "Title: 25_Gaurav.jpg, ID: 1UDW8sKlAdC5xZkNdQGEtsD54olgCXVwu\n",
      "Title: Why I chose Psychology, ID: 12V5e9awbxiKJFMM1Kgw90m2in8qxO1trgWCvpYNLKNM\n",
      "Title: Why I chose Psychology (1), ID: 1kEn7m_i6zWG7w_COQY0woJ0gaKjeCRxye-y8m_a7Ii8\n",
      "Title: Why I chose Psychology, ID: 1ySxkLKhzVf1naIS5bZpFHKUy4wngrbpuC_5x5QQTn2I\n",
      "Title: Classroom, ID: 0B4Ui_jU4CawTfmNrM0w3ejlmTVRGaVVLZHNJbXhWUGd6MzE5Zm9pcXJpZk44VF9WeWRVX3M\n",
      "Title: 8th sem, ID: 10eJNZCjkSG4wDOBOSuFNsTWWbsSJNAmp\n",
      "Title: BT17CSE025_PA.pdf, ID: 1OMe8Hty8adSblX34jO1JtEWsqxT1Qc_H\n",
      "Title: BT17CSE025_DMDW.pdf, ID: 19l10WPO4O-E9VP23wXgtecJkRbeBVQM7\n",
      "Title: BT17CSE025_DS.pdf, ID: 1Ld0CLzhfsPDs8OAz27-qRQA75WVvN9Ef\n",
      "Title: BT17CSE025_PSYCHOLOGY.pdf, ID: 1ZDRSVZXuWjqa8S0IWkq_KGu1zxKAZYGr\n",
      "Title: Untitled presentation, ID: 15z_IOPCS1-yESy1g-nO_UhMwXgQWYaBnB0-xxApkDD8\n",
      "Title: declaration form.pdf, ID: 1AfNrLTSJ_f8f3zdrkY0nWaZIAbQj4frM\n",
      "Title: mother's affidavit.pdf, ID: 14o3r7gFyYbi5rdgin05UenRIrbbK9s-P\n",
      "Title: income certificate.pdf, ID: 10uYjgOkomicPaclsj6op2uyrJ6H39DXO\n",
      "Title: 21187.pdf, ID: 1P0k38rcVJDMV7h0fC_anqzHGURUj5pwu\n",
      "Title: BT17CSE025_SNS_ENDSEM.pdf, ID: 15c4jieKw3LWHyMACmWWQA0c81ou1mSxJ\n",
      "Title: BT17CSE025_MFM_ENDSEM.pdf, ID: 1ZUu-JxMns0NnIkkzOLwfhKm84x--G11p\n",
      "Title: BT17CSE025_q2.pdf, ID: 1wbvq0B4aHhHMl7XUbxZx3LeA0bpCJA_-\n",
      "Title: BT17CSE025.zip, ID: 1dE5kxv3vTsH3zotx0U6c5FZdSxugdHQh\n",
      "Title: BT17CSE025-SNS.pdf, ID: 1dbZ9ukBQrHR5sRKOHSPpmSy3-w_gVlMZ\n",
      "Title: BT17CSE025_MFM.pdf, ID: 1D2uzcOf58BvKOzRVdE0zc9XaIRFRYqgN\n",
      "Title: Prototyping presentation, ID: 1dfdp1Oja9aqy1wQgN23uvex8S9V52MSJn1Qe9WiNKzE\n",
      "Title: Report, ID: 1NB8wVJEp6vcXydGxAhbGd_votfDHvtB5mpUKVJD5Luc\n",
      "Title: BT17CSE025_MFM, ID: 1ndHgiz8LfMI4fZ8aud5Y5UpDdqFEdqwD3BT37NFk2_Y\n",
      "Title: BT17CSE025_ACA, ID: 1FACWEiUDHWMU-LUSYrrw-SIAmDy8akQtzPmQZoiUbiY\n",
      "Title: GauravCV.pdf, ID: 1B3f5iYufBFFqU62ABZmZdkmodgGeLteZ\n",
      "Title: BT17CSE025.pdf, ID: 18nloAK3pMQk6FMLuKWO5TfD6PVMIUzHU\n",
      "Title: BT17CSE025_ACA.pdf, ID: 1-HLWQR_QVOdnJpd1sM96MUFdn_dRNUZ-\n",
      "Title: Submission, ID: 1rGPO6hR9xtu0o_QzfUUXLcbpKYa0N1zOWUfs8OKRqIk\n",
      "Title: BT17CSE025_IR.pdf, ID: 1VkG5Osv_yDuladmJpGI-PkimoUT90RVF\n",
      "Title: BT17CSE025_AI.pdf, ID: 1HFWOGJ3R7DDBptZceKVOoqU5mll2rK7y\n",
      "Title: BT17CSE025_SNS.pdf, ID: 1UJbRWHFMHmt-cetaactMFn2LoqtFAKG1\n",
      "Title: BT17CSE025_MFM.pdf, ID: 1IdqoC8k2_HzLh64-zx0aJOA0FOELUb7Y\n",
      "Title: desk, ID: 1nlcEUronneJprhOjDMftdWLYpI1EUrAs\n",
      "Title: Mentee Details, ID: 1U6m729DOuxPxGfGLdMlipaqcGAD4yGsBcFwuZyGwVE8\n",
      "Title: Documents w, ID: 1aK7gun_I7aRCn0XDRTXkv17Ltc1GnLIX\n",
      "Title: Credit Suisse, ID: 1ClIyKosSRaNJij6-woc4H4nJ4tgw1e4W\n",
      "Title: BT17CSE025_q1.pdf, ID: 1g75-wnUrdT8-fwvrn5XgSaI2fahNHkBQ\n",
      "Title: Cvs, ID: 147YjdAYT3UDjYNJrdi1oTNUlfYevmLWf\n",
      "Title: Colab Notebooks, ID: 1TSILwYgq4U3vE_Ho5LGe29fIoDuS1z9m\n",
      "Title: BT17CSE025, ID: 11vjsHWDQqYx2Sqpjz3k9cohDmbuZd2YL\n",
      "Title: My important file, ID: 1925UdCWYb2V5IAq1f-Cyd7QVlGfgwZkF\n",
      "Title: IMG_20191109_135553.jpg, ID: 1rXkfC6Bzw3KV1i7XEPdqWVgLIyUvFxwi\n",
      "Title: IMG_20191109_135445.jpg, ID: 1RCxQh75KUD_PsUI1lpv1Nrvyr3xQKkiq\n",
      "Title: IMG_20191109_132806.jpg, ID: 1jEeLyw26w3u9VkS05Kv3azVNx5Jg6MkP\n",
      "Title: IMG_20191109_130141.jpg, ID: 1CRYIZ14IaIDwCPq6rqDTESY6GhJkZpMK\n",
      "Title: IMG_20191109_125254.jpg, ID: 1-XPwK0oAZhV5JyWfj3wduMoTFYz2RSwV\n",
      "Title: IMG_20191109_123856.jpg, ID: 1qLNidcyz4n6OHNzES-Qf2j7fHhUEAIMZ\n",
      "Title: IMG_20191109_123854.jpg, ID: 1my1nMoXuNAgddNlBpcpTn0b8hVlFEmUL\n",
      "Title: IMG_20191109_123844.jpg, ID: 1nyZZAozvQHLP7_5tEkDAiyeHqDuT_TsT\n",
      "Title: IMG_20191109_123842.jpg, ID: 1wgK7B5zmnaOFVJYnxALJzVrkeT2ad5OS\n",
      "Title: IMG_20191109_123818.jpg, ID: 1gwAejVv1BGrDFUJvNuNxkw4oClbJKdOf\n",
      "Title: IMG_20191109_123337.jpg, ID: 1mVthupMP03C5Xo5hLLtUZ1pRoQYrr7PI\n",
      "Title: IMG_20191109_122043.jpg, ID: 1VynEA8GDxQApZtHtO9v82ey22oxz5VE6\n",
      "Title: Friends funny, ID: 1t5NhevFTQSC4Divct7VL29Jzleb04E3u\n",
      "Title: Name & Email.xlsx, ID: 17zWbeCBx7V_WzA6JUZCtUzs-AEbxlCg_\n",
      "Title: important, ID: 1Z_Lfs6B8aXDieSH1jZbKITgF0MmEVvbh\n",
      "Title: Stuffs, ID: 18XCoRG2hEusR8FUha0nkJVi8_r-e0paB\n",
      "Title: Papas doc, ID: 1apw0XObE7F2r55NFxlTx5FQMxFtMJWc7\n",
      "Title: Halla bol 😍, ID: 16RgIVDZLYvFGEtSl8nl5Ir4LdSSt6ezm\n"
     ]
    },
    {
     "data": {
      "text/plain": [
       "'1sz0napqJkuZbzbXfBP74arJTyPZs5mOb'"
      ]
     },
     "execution_count": 42,
     "metadata": {},
     "output_type": "execute_result"
    }
   ],
   "source": [
    "path = r\"/Users/lappymaker/Desktop/Data Science/project/Data\"   \n",
    "# View all folders and file in your Google Drive\n",
    "fileList = drive.ListFile({'q': \"'root' in parents and trashed=false\"}).GetList()\n",
    "for file in fileList:\n",
    "  print('Title: %s, ID: %s' % (file['title'], file['id']))\n",
    "  # Get the folder ID that you want\n",
    "  if(file['title'] == \"DataAssets\"):\n",
    "      fileID = file['id']\n",
    "fileID"
   ]
  },
  {
   "cell_type": "code",
   "execution_count": 43,
   "id": "3f0a0e14",
   "metadata": {},
   "outputs": [
    {
     "name": "stdout",
     "output_type": "stream",
     "text": [
      "Title: tmdb_5000_movies.csv, ID: 1kPqMS9hU4NKhR-XTo1ncu7r1XEA6UyeQ\n",
      "File Deleted tmdb_5000_movies.csv\n",
      "Title: tmdb_5000_credits.csv, ID: 1id6m0DRlmLJcWI3QClMyIAi5I6yBh6lN\n",
      "File Deleted tmdb_5000_credits.csv\n",
      "Title: .DS_Store, ID: 1_NRRbbZKc9wsfZ1KTQrfu-SAOKR3AAAR\n",
      "File Deleted .DS_Store\n"
     ]
    }
   ],
   "source": [
    "fileList = drive.ListFile({'q': \"'{}' in parents and trashed=false\".format(fileID)}).GetList()\n",
    "for file in fileList:\n",
    "    print('Title: %s, ID: %s' % (file['title'], file['id']))\n",
    "    f = drive.CreateFile({'id':file['id']})\n",
    "    f.Delete()\n",
    "    f = None\n",
    "    print('File Deleted %s'%(file['title']))\n",
    "  # Get the folder ID that you want\n",
    "  #if(file['title'] == \"DataAssets\"):\n",
    "  #    fileID = file['id']#\n",
    "#fileID"
   ]
  },
  {
   "cell_type": "code",
   "execution_count": 44,
   "id": "207a50d1",
   "metadata": {},
   "outputs": [
    {
     "name": "stdout",
     "output_type": "stream",
     "text": [
      "Created file .DS_Store with mimeType text/csv\n",
      "Created file tmdb_5000_credits.csv with mimeType text/csv\n",
      "Created file tmdb_5000_movies.csv with mimeType text/csv\n"
     ]
    }
   ],
   "source": [
    "#146_FEscmNCnOT18Vq3dFJnDL9XR0Ad5e\n",
    "path = r\"/Users/lappymaker/Desktop/Data Science/project/Data\"   \n",
    "for x in os.listdir(path):\n",
    "    file1 = drive.CreateFile({\"title\":x, \"mimeType\": \"text/csv\", \"parents\": [{\"kind\": \"drive#fileLink\", \"id\": fileID}]})\n",
    "    file1.SetContentFile(os.path.join(path, x))\n",
    "    file1.Upload() # Upload the file.\n",
    "    print('Created file %s with mimeType %s' % (file1['title'], file1['mimeType']))   \n",
    "    file1 = None\n",
    "    \n"
   ]
  },
  {
   "cell_type": "code",
   "execution_count": 54,
   "id": "5e3fb691",
   "metadata": {
    "scrolled": true
   },
   "outputs": [
    {
     "name": "stdout",
     "output_type": "stream",
     "text": [
      "Title: tmdb_5000_movies.csv, ID: 1IZdzH44KAi3gXRD1eFVFgI9_cphnLQSH\n",
      "Title: tmdb_5000_credits.csv, ID: 1MPBMr9pmdxuFwPnASNrlM-F5S_3yhfNs\n",
      "Title: .DS_Store, ID: 1g_WkMLTqCShwTiJQoATDLT3pDjQL4A2M\n"
     ]
    },
    {
     "data": {
      "text/plain": [
       "[{'title': 'tmdb_5000_movies.csv', 'id': '1IZdzH44KAi3gXRD1eFVFgI9_cphnLQSH'},\n",
       " {'title': 'tmdb_5000_credits.csv', 'id': '1MPBMr9pmdxuFwPnASNrlM-F5S_3yhfNs'},\n",
       " {'title': '.DS_Store', 'id': '1g_WkMLTqCShwTiJQoATDLT3pDjQL4A2M'}]"
      ]
     },
     "execution_count": 54,
     "metadata": {},
     "output_type": "execute_result"
    }
   ],
   "source": [
    "fileList = drive.ListFile({'q': \"'{}' in parents and trashed=false\".format(fileID)}).GetList()\n",
    "li = []\n",
    "for file in fileList:\n",
    "    print('Title: %s, ID: %s' % (file['title'], file['id']))\n",
    "    li.append({'title':file['title'], 'id' : file['id']})\n",
    "\n",
    "li"
   ]
  },
  {
   "cell_type": "code",
   "execution_count": 56,
   "id": "bfad87a8",
   "metadata": {},
   "outputs": [],
   "source": [
    "import json\n",
    "\n",
    "with open(\"mydata.json\", \"w\") as final:\n",
    "   json.dump(li, final)"
   ]
  },
  {
   "cell_type": "code",
   "execution_count": null,
   "id": "c8d9fbdf",
   "metadata": {},
   "outputs": [],
   "source": []
  }
 ],
 "metadata": {
  "kernelspec": {
   "display_name": "Python 3 (ipykernel)",
   "language": "python",
   "name": "python3"
  },
  "language_info": {
   "codemirror_mode": {
    "name": "ipython",
    "version": 3
   },
   "file_extension": ".py",
   "mimetype": "text/x-python",
   "name": "python",
   "nbconvert_exporter": "python",
   "pygments_lexer": "ipython3",
   "version": "3.8.12"
  }
 },
 "nbformat": 4,
 "nbformat_minor": 5
}
